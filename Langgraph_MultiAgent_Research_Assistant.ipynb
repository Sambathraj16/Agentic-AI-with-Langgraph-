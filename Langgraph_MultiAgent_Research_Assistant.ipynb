{
  "nbformat": 4,
  "nbformat_minor": 0,
  "metadata": {
    "colab": {
      "provenance": []
    },
    "kernelspec": {
      "name": "python3",
      "display_name": "Python 3"
    },
    "language_info": {
      "name": "python"
    }
  },
  "cells": [
    {
      "cell_type": "code",
      "execution_count": null,
      "metadata": {
        "id": "svsfVU4fsfzu"
      },
      "outputs": [],
      "source": [
        "!pip install langgraph langchain_core langchain_groq langchain_huggingface langchain_chroma langchain-tavily"
      ]
    },
    {
      "cell_type": "code",
      "source": [
        "from typing import TypedDict,Literal,Annotated,List,Dict\n",
        "from langgraph.graph import StateGraph,START,END\n",
        "from langchain_groq import ChatGroq\n",
        "import os\n",
        "from google.colab import userdata,drive\n",
        "drive.mount('/content/drive')\n",
        "os.environ['GROQ_API_KEY']=userdata.get('GROQ_API_KEY')\n",
        "os.environ['TAVILY_API_KEY']=userdata.get('TAVILLY_API_KEY')\n",
        "\n",
        "from langgraph.graph.message import add_messages\n",
        "from langgraph.prebuilt import  ToolNode\n",
        "from pydantic import  BaseModel,Field\n",
        "from langchain_huggingface import HuggingFaceEmbeddings\n",
        "from langchain_chroma import Chroma\n",
        "from langchain.retrievers import MultiQueryRetriever\n",
        "from langchain_core.runnables import RunnableLambda, RunnablePassthrough,RunnableParallel\n",
        "from langchain.tools import tool\n",
        "from typing_extensions import TypedDict\n",
        "from langchain_core.messages import HumanMessage\n",
        "from langchain.prompts import PromptTemplate\n",
        "from langchain_tavily import TavilySearch"
      ],
      "metadata": {
        "colab": {
          "base_uri": "https://localhost:8080/"
        },
        "id": "p2Laq7sutAga",
        "outputId": "86a45eed-0311-4877-909f-5e6b8eb3f68b"
      },
      "execution_count": null,
      "outputs": [
        {
          "output_type": "stream",
          "name": "stdout",
          "text": [
            "Drive already mounted at /content/drive; to attempt to forcibly remount, call drive.mount(\"/content/drive\", force_remount=True).\n"
          ]
        }
      ]
    },
    {
      "cell_type": "markdown",
      "source": [],
      "metadata": {
        "id": "8RxDG9D7GRwl"
      }
    },
    {
      "cell_type": "code",
      "source": [
        "from langchain_core.messages import BaseMessage\n"
      ],
      "metadata": {
        "id": "30kMy1BXIhzT"
      },
      "execution_count": null,
      "outputs": []
    },
    {
      "cell_type": "code",
      "source": [
        "class GraphState(BaseModel):\n",
        "  messages:Annotated[List[BaseMessage],add_messages]\n",
        "  final_output:str=None\n",
        "  query_type:Literal['research','farewell']=None\n",
        "  results:str=None\n",
        "  input_query:str=None\n",
        "\n",
        "def router(state:GraphState):\n",
        "\n",
        "  class Output(BaseModel):\n",
        "    query_type:Literal['research','farewell']\n",
        "\n",
        "  llm=ChatGroq(model='llama-3.1-8b-instant').with_structured_output(Output)\n",
        "\n",
        "  prompt=f\"\"\"You will be identifying type of user query .If query needs research respond with 'research'\n",
        "            if query is farewell message(eg : Bye, Thanks, Ok ) respond with 'farewell'\n",
        "            User Query -{state.messages[-1].content} \"\"\"\n",
        "\n",
        "  response=llm.invoke(prompt)\n",
        "  print(response.query_type)\n",
        "  return {'query_type':response.query_type}\n",
        "\n",
        "def researcher(state:GraphState):\n",
        "\n",
        "  user_query=state.messages[-1].content\n",
        "\n",
        "  tavily_search_tool = TavilySearch(max_results=20,topic=\"finance\",country='India')\n",
        "\n",
        "  results_dict=tavily_search_tool.invoke(user_query)['results']\n",
        "\n",
        "  results='/n/n'.join([content.get('content') for content  in results_dict])\n",
        "\n",
        "  return {'results':results}\n",
        "\n",
        "def summarizer (state:GraphState):\n",
        "\n",
        "  results= state.results\n",
        "\n",
        "  llm=ChatGroq(model='llama-3.1-8b-instant')\n",
        "\n",
        "  prompt=f\"\"\"You are an summarizer, you will be receiving various informations from multiple websites which is raw and unclean data.\n",
        "           Remove unwanted informations from results.\n",
        "           Provide a precise and excellent summary in paragraph or points.\n",
        "\n",
        "           User query - {state.messages[-1].content} .\n",
        "           Results- {state.results}\"\"\"\n",
        "\n",
        "  summary=llm.invoke(prompt)\n",
        "\n",
        "  return  {'messages':summary.content,'input_query':state.messages[-1].content}\n",
        "\n",
        "def convo_end(state:GraphState):\n",
        "\n",
        "  return {'messages':\n",
        "          'Goodbye Have a great time'}\n",
        "\n",
        "graph=StateGraph(GraphState)\n",
        "\n",
        "graph.add_node('router',router)\n",
        "graph.add_node('researcher',researcher)\n",
        "graph.add_node('summarizer',summarizer)\n",
        "graph.add_node('convo_end',convo_end)\n",
        "\n",
        "\n",
        "graph.set_entry_point('router')\n",
        "graph.add_conditional_edges('router',\n",
        "                            lambda x : x.query_type,\n",
        "                            {'research':'researcher',\n",
        "                             'farewell':'convo_end'})\n",
        "graph.add_edge('convo_end',END)\n",
        "graph.add_edge('researcher','summarizer')\n",
        "graph.add_edge('summarizer',END)\n",
        "\n",
        "app=graph.compile()"
      ],
      "metadata": {
        "id": "PPkIW-B_tA8c"
      },
      "execution_count": null,
      "outputs": []
    },
    {
      "cell_type": "code",
      "source": [
        "answer= app.invoke({'messages':['What are best stocks for long term investment  for next 5 years in India?']})"
      ],
      "metadata": {
        "id": "aBO1UqLeHK85",
        "colab": {
          "base_uri": "https://localhost:8080/"
        },
        "outputId": "a2b76bf5-37e6-4618-bb5e-756176d2f0d7"
      },
      "execution_count": null,
      "outputs": [
        {
          "output_type": "stream",
          "name": "stdout",
          "text": [
            "research\n"
          ]
        }
      ]
    },
    {
      "cell_type": "code",
      "source": [
        "for m in answer['messages']:\n",
        "  m.pretty_print()"
      ],
      "metadata": {
        "id": "Ny44IDlgEwIs",
        "colab": {
          "base_uri": "https://localhost:8080/"
        },
        "outputId": "a271c873-debe-4681-d177-823a7014fb6f"
      },
      "execution_count": null,
      "outputs": [
        {
          "output_type": "stream",
          "name": "stdout",
          "text": [
            "================================\u001b[1m Human Message \u001b[0m=================================\n",
            "\n",
            "What are best stocks for long term investment  for next 5 years in India?\n",
            "================================\u001b[1m Human Message \u001b[0m=================================\n",
            "\n",
            "**Summary: Best Stocks for Long-Term Investment in India for Next 5 Years**\n",
            "\n",
            "Based on the analysis of various sources, including Forbes Advisor India, here are some of the best stocks for long-term investment in India for the next 5 years:\n",
            "\n",
            "**Top Sectors to Invest in:**\n",
            "\n",
            "1. **Electricals and Renewable Energy**: This sector has shown strong growth potential with relatively lower risk.\n",
            "2. **Infrastructure**: Infrastructure projects are expected to drive growth in the coming years, making this sector a promising investment opportunity.\n",
            "3. **Banking**: Banking sector is expected to see growth due to increasing demand for financial services.\n",
            "\n",
            "**Best Stocks to Invest in:**\n",
            "\n",
            "1. **HDFC Bank Limited (NYSE:HDB)**: One of the largest private sector banks in India, with a strong track record of growth and stability.\n",
            "2. **ICICI Bank Limited (NYSE:IBN)**: Another leading private sector bank in India, with a strong presence in the country's banking sector.\n",
            "3. **Infosys Limited (NYSE:INFY)**: A leading IT services company in India, with a strong track record of growth and innovation.\n",
            "4. **MakeMyTrip Limited (NASDAQ:MMYT)**: A leading online travel agency in India, with a strong growth potential in the coming years.\n",
            "5. **Sify Technologies Limited (NASDAQ:SIFY)**: A leading IT services company in India, with a strong track record of growth and innovation.\n",
            "\n",
            "**Other Investment Options:**\n",
            "\n",
            "1. **National Pension Scheme**: A government-monitored pension fund that invests in diversified stock market portfolios.\n",
            "2. **Corporate Bonds**: Debt securities issued by companies to raise capital, providing regular interest payments and the return of principal at maturity.\n",
            "3. **Mutual Funds**: Professionally managed investment portfolios that provide diversification and lower risk.\n",
            "\n",
            "**Investment Strategy:**\n",
            "\n",
            "1. **Long-term perspective**: Invest for the long term, rather than trying to time the market.\n",
            "2. **Diversification**: Spread investments across different sectors and asset classes to minimize risk.\n",
            "3. **Research**: Conduct thorough research on the companies and sectors before investing.\n",
            "4. **Discipline**: Stick to your investment strategy and avoid making impulsive decisions.\n",
            "\n",
            "Note: This summary is based on the analysis of various sources, including Forbes Advisor India, and is not a personalized investment advice. It is essential to conduct your own research and consult with a financial advisor before making any investment decisions.\n"
          ]
        }
      ]
    },
    {
      "cell_type": "code",
      "source": [],
      "metadata": {
        "id": "YkTPoWfmMXaO"
      },
      "execution_count": null,
      "outputs": []
    },
    {
      "cell_type": "code",
      "source": [],
      "metadata": {
        "id": "JbGpcqxTMmoh"
      },
      "execution_count": null,
      "outputs": []
    }
  ]
}