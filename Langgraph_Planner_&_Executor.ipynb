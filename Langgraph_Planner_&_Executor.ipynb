{
  "nbformat": 4,
  "nbformat_minor": 0,
  "metadata": {
    "colab": {
      "provenance": []
    },
    "kernelspec": {
      "name": "python3",
      "display_name": "Python 3"
    },
    "language_info": {
      "name": "python"
    }
  },
  "cells": [
    {
      "cell_type": "code",
      "execution_count": null,
      "metadata": {
        "id": "PUtIsLdv5N-V"
      },
      "outputs": [],
      "source": [
        "!pip install langgraph langchain_core langchain_groq langchain_huggingface langchain_chroma"
      ]
    },
    {
      "cell_type": "code",
      "source": [
        "from typing import TypedDict,List,Dict,Any\n",
        "from langgraph.graph import StateGraph,START,END\n",
        "from langchain_groq import ChatGroq\n",
        "from google.colab import userdata\n",
        "import os\n",
        "os.environ['GROQ_API_KEY']=userdata.get('GROQ_API_KEY')\n",
        "from pydantic import BaseModel,Field,dataclasses\n"
      ],
      "metadata": {
        "id": "CVDGqBkw5WWf"
      },
      "execution_count": 24,
      "outputs": []
    },
    {
      "cell_type": "code",
      "source": [
        "from typing import TypedDict,List,Dict,Any\n",
        "from langgraph.graph import StateGraph,START,END\n",
        "from langchain_groq import ChatGroq\n",
        "from google.colab import userdata\n",
        "import os\n",
        "os.environ['GROQ_API_KEY']=userdata.get('GROQ_API_KEY')\n",
        "from pydantic import BaseModel,Field,dataclasses\n",
        "\n",
        "class GraphState(BaseModel):\n",
        "  query:str\n",
        "  plan:List[Dict[str,str]] = Field(default_factory=list)\n",
        "  next_index:int = 0\n",
        "  results:dict[str,Any] = Field(default_factory=dict)\n",
        "  final_answer:str = ''\n",
        "  next: str = '' # Add 'next' field to GraphState\n",
        "\n",
        "class Step(BaseModel):\n",
        "  action:str=Field(description='Action needs to be performed')\n",
        "  query:str=Field(description='Query to use for action')\n",
        "\n",
        "class Plan(BaseModel):\n",
        "  steps:List[Step]=Field(description='A list of steps to complete the user task')\n",
        "\n",
        "def planner(graph:GraphState):\n",
        "\n",
        "  user_query=graph.query\n",
        "\n",
        "  llm=ChatGroq(model='llama-3.1-8b-instant').with_structured_output(Plan)\n",
        "\n",
        "  prompt=f\"\"\"You are a excellent planner who will be planning sequentially the user's query to accomplish it. Each plan\n",
        "             Each plan must have action and query for it. For complex query you may use multiple plans to accomplish it\n",
        "             User query : {user_query}\"\"\"\n",
        "\n",
        "  response=llm.invoke(prompt)\n",
        "\n",
        "  # Convert list of Step objects to list of dictionaries\n",
        "  plan_list_of_dicts = [step.model_dump() for step in response.steps]\n",
        "\n",
        "  return {'plan':plan_list_of_dicts,\n",
        "          'next_index':0,\n",
        "          'results':{},\n",
        "          'query':user_query,\n",
        "          'final_answer':'',\n",
        "          'next':''} # Initialize 'next' in planner\n",
        "\n",
        "def exectutor(graph:GraphState):\n",
        "\n",
        "  current_plan=graph.plan\n",
        "  current_index=graph.next_index\n",
        "\n",
        "  if current_index>= len(current_plan):\n",
        "      print('All tasks completed')\n",
        "      return {}\n",
        "\n",
        "  mock_responses = {\n",
        "        \"capital of canada\": \"The capital of Canada is Ottawa.\",\n",
        "        \"population of ottawa\": \"The population of Ottawa is approximately 1.07 million.\",\n",
        "        \"gdp of france\": \"The GDP of France is approximately 3.1 trillion USD.\",\n",
        "        \"currency of france\": \"The currency of France is the Euro (€).\"\n",
        "    }\n",
        "\n",
        "  current_step=current_plan[current_index]\n",
        "\n",
        "  action=current_step['action']\n",
        "  query=current_step['query']\n",
        "\n",
        "\n",
        "  print(f\"--- Executor is running step {current_index+1}/{len(current_plan)}: {action} with query '{query}' ---\")\n",
        "\n",
        "  action_output=mock_responses.get(query.lower(),'No result')\n",
        "\n",
        "  graph.results[query]=action_output\n",
        "\n",
        "  return {'results': graph.results,\n",
        "          'next_index':current_index+1}\n",
        "\n",
        "def manager(graph:GraphState):\n",
        "\n",
        "  if graph.next_index<len(graph.plan):\n",
        "    return {\"next\": \"continue_plan\"} # Return dictionary for conditional edge\n",
        "\n",
        "  else:\n",
        "    return {'next': 'synthesize'} # Return dictionary for conditional edge\n",
        "\n",
        "\n",
        "def synthesise(graph:GraphState):\n",
        "\n",
        "  print('Total no of performaed actions', len(graph.results) )\n",
        "\n",
        "  llm=ChatGroq(model='llama-3.1-8b-instant')\n",
        "\n",
        "  results_str= '\\n\\n'.join(f'Step for \"{q}\" resulted in \"{r}\" ' for q,r in graph.results.items())\n",
        "  prompt=f\"\"\"You are an answer synthsize. For user query, it is divided into subtasks and necessary actions and its output are performed already .\n",
        "            Input_query:{graph.query}\n",
        "            Subtasks resuls :{results_str}\n",
        "            Provide on output in concise.\n",
        "          \"\"\"\n",
        "\n",
        "  final_answer = llm.invoke(prompt)\n",
        "\n",
        "  return {'final_answer':final_answer.content}\n",
        "\n",
        "agent=StateGraph(GraphState)\n",
        "\n",
        "agent.add_node('planner',planner)\n",
        "agent.add_node('executor',exectutor)\n",
        "agent.add_node('manager',manager)\n",
        "agent.add_node('synthesize',synthesise)\n",
        "\n",
        "agent.set_entry_point('planner')\n",
        "agent.add_edge('planner','executor')\n",
        "agent.add_edge('executor','manager')\n",
        "agent.add_conditional_edges('manager',\n",
        "                                  lambda x: x.next, # Use dot notation to access 'next'\n",
        "                                  {'continue_plan':'executor',\n",
        "                                   'synthesize':'synthesize'})\n",
        "agent.add_edge('synthesize',END)\n",
        "\n",
        "app=agent.compile()"
      ],
      "metadata": {
        "id": "mSvu0ymTAkkr"
      },
      "execution_count": 41,
      "outputs": []
    },
    {
      "cell_type": "code",
      "source": [
        "app.invoke({'query':\n",
        "            'What is currency of france and capital of Canada and GDP of france'})"
      ],
      "metadata": {
        "colab": {
          "base_uri": "https://localhost:8080/"
        },
        "id": "N4Nobyt1AzxQ",
        "outputId": "a5e23c0c-eff8-430e-f125-488fe32f92a2"
      },
      "execution_count": 42,
      "outputs": [
        {
          "output_type": "stream",
          "name": "stdout",
          "text": [
            "--- Executor is running step 1/3: search with query 'currency of France' ---\n",
            "--- Executor is running step 2/3: search with query 'capital of Canada' ---\n",
            "--- Executor is running step 3/3: search with query 'GDP of France' ---\n",
            "Total no of performaed actions 3\n"
          ]
        },
        {
          "output_type": "execute_result",
          "data": {
            "text/plain": [
              "{'query': 'What is currency of france and capital of Canada and GDP of france',\n",
              " 'plan': [{'action': 'search', 'query': 'currency of France'},\n",
              "  {'action': 'search', 'query': 'capital of Canada'},\n",
              "  {'action': 'search', 'query': 'GDP of France'}],\n",
              " 'next_index': 3,\n",
              " 'results': {'currency of France': 'The currency of France is the Euro (€).',\n",
              "  'capital of Canada': 'The capital of Canada is Ottawa.',\n",
              "  'GDP of France': 'The GDP of France is approximately 3.1 trillion USD.'},\n",
              " 'final_answer': 'The currency of France is the Euro (€), the capital of Canada is Ottawa, and the GDP of France is approximately 3.1 trillion USD.',\n",
              " 'next': 'synthesize'}"
            ]
          },
          "metadata": {},
          "execution_count": 42
        }
      ]
    },
    {
      "cell_type": "code",
      "source": [],
      "metadata": {
        "id": "ioAhOstiK3w_"
      },
      "execution_count": null,
      "outputs": []
    },
    {
      "cell_type": "code",
      "source": [],
      "metadata": {
        "id": "DXJV3R2sbrF-"
      },
      "execution_count": null,
      "outputs": []
    }
  ]
}