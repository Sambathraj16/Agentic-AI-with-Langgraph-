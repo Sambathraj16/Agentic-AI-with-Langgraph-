{
  "nbformat": 4,
  "nbformat_minor": 0,
  "metadata": {
    "colab": {
      "provenance": []
    },
    "kernelspec": {
      "name": "python3",
      "display_name": "Python 3"
    },
    "language_info": {
      "name": "python"
    }
  },
  "cells": [
    {
      "cell_type": "code",
      "execution_count": null,
      "metadata": {
        "id": "Q8ncEjZoRYQK"
      },
      "outputs": [],
      "source": [
        "!pip install langgraph langchain_core langchain_groq langchain_huggingface langchain_chroma"
      ]
    },
    {
      "cell_type": "code",
      "source": [
        "from typing import TypedDict,Literal,Annotated,List\n",
        "from langgraph.graph import StateGraph,START,END\n",
        "from langchain_groq import ChatGroq\n",
        "import os\n",
        "os.environ['GROQ_API_KEY']=userdata.get('GROQ_API_KEY')\n",
        "from google.colab import userdata\n",
        "from langgraph.graph.message import add_messages"
      ],
      "metadata": {
        "id": "8VLpHH3ORmBD"
      },
      "execution_count": 31,
      "outputs": []
    },
    {
      "cell_type": "code",
      "source": [],
      "metadata": {
        "id": "Wn5qePvYVEuu"
      },
      "execution_count": 23,
      "outputs": []
    },
    {
      "cell_type": "code",
      "source": [
        "class GraphState(TypedDict):\n",
        "  request:Annotated[List,add_messages]\n",
        "  classification:Literal['sales','support','general','remote']\n",
        "\n",
        "def sales_message(state:GraphState):\n",
        "  return {'request':'Our Sales team will be reaching out you soon'}\n",
        "\n",
        "def remote_message(state:GraphState):\n",
        "  return {'request':'Our remote team will be reaching out you soon'}\n",
        "\n",
        "def support_message(state:GraphState):\n",
        "  return {'request':'Our Support team will be reaching out you soon'}\n",
        "\n",
        "def general_message(state:GraphState):\n",
        "  return {'request':'Concerned team will be reaching out you soon'}\n",
        "\n",
        "def classify_message(state:GraphState):\n",
        "  llm=ChatGroq(model='llama-3.1-8b-instant')\n",
        "\n",
        "  response=llm.invoke(f\"\"\"Classifiy the below user request message in to any 1 of  below categories:('sales','support','remote','general')\n",
        "                          user message :{state['request']}\n",
        "                          Provide your in one word \"\"\")\n",
        "  classification=response.content.strip().lower()\n",
        "  print(classification)\n",
        "  return {'classification':classification}\n",
        "def router(state:GraphState):\n",
        "\n",
        "  classify=state.get('classification')\n",
        "  if classify=='sales':\n",
        "    return 'sales'\n",
        "  elif classify =='support':\n",
        "    return 'support'\n",
        "  elif classify=='remote':\n",
        "    return 'remote'\n",
        "  else:\n",
        "    return 'general'\n"
      ],
      "metadata": {
        "id": "FCfMPbTVSUdf"
      },
      "execution_count": 54,
      "outputs": []
    },
    {
      "cell_type": "code",
      "source": [
        "graph=StateGraph(GraphState)\n",
        "\n",
        "graph.add_node('classification',classify_message)\n",
        "graph.add_node('sales_team',sales_message)\n",
        "graph.add_node('support_team',support_message)\n",
        "graph.add_node('general_team',general_message)\n",
        "graph.add_node('remote_team',remote_message)\n",
        "\n",
        "graph.set_entry_point('classification')\n",
        "graph.add_conditional_edges(\n",
        "    'classification',\n",
        "    router,\n",
        "    {'sales':'sales_team',\n",
        "     'support':'support_team',\n",
        "     'general':'general_team',\n",
        "     'remote':'remote_team'}\n",
        ")\n",
        "graph.add_edge('sales_team',END)\n",
        "graph.add_edge('support_team',END)\n",
        "graph.add_edge('general_team',END)\n",
        "graph.add_edge('remote_team',END)\n",
        "\n",
        "agent=graph.compile()"
      ],
      "metadata": {
        "id": "S4WBAsCpTpHr"
      },
      "execution_count": 55,
      "outputs": []
    },
    {
      "cell_type": "code",
      "source": [
        "response=agent.invoke({'request':'How to reach out for buying Gaming lapto'})"
      ],
      "metadata": {
        "colab": {
          "base_uri": "https://localhost:8080/"
        },
        "id": "D4gbP7s7a_gI",
        "outputId": "7c4f7913-62c4-490e-8317-53d9087f05b2"
      },
      "execution_count": 69,
      "outputs": [
        {
          "output_type": "stream",
          "name": "stdout",
          "text": [
            "sales\n"
          ]
        }
      ]
    },
    {
      "cell_type": "code",
      "source": [
        "for req in response['request']:\n",
        "  req.pretty_print()"
      ],
      "metadata": {
        "colab": {
          "base_uri": "https://localhost:8080/"
        },
        "id": "DfOIUizAbEKQ",
        "outputId": "e173c4bc-5cbe-4300-a0ad-ca3a8fd9fae2"
      },
      "execution_count": 71,
      "outputs": [
        {
          "output_type": "stream",
          "name": "stdout",
          "text": [
            "================================\u001b[1m Human Message \u001b[0m=================================\n",
            "\n",
            "How to reach out for buying Gaming lapto\n",
            "================================\u001b[1m Human Message \u001b[0m=================================\n",
            "\n",
            "Our Sales team will be reaching out you soon\n"
          ]
        }
      ]
    },
    {
      "cell_type": "code",
      "source": [],
      "metadata": {
        "id": "9NQtL8DsesfG"
      },
      "execution_count": null,
      "outputs": []
    }
  ]
}